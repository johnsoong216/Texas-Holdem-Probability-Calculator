{
 "cells": [
  {
   "cell_type": "code",
   "execution_count": 1,
   "metadata": {},
   "outputs": [],
   "source": [
    "import timeit\n",
    "from itertools import combinations\n",
    "from collections import Counter\n",
    "from multiprocessing import Pool #  Process pool"
   ]
  },
  {
   "cell_type": "code",
   "execution_count": 2,
   "metadata": {},
   "outputs": [],
   "source": [
    "import numpy as np\n",
    "import pandas as pd"
   ]
  },
  {
   "cell_type": "code",
   "execution_count": 3,
   "metadata": {},
   "outputs": [],
   "source": [
    "from Card import Card\n",
    "from Hand import Hand\n",
    "from Deck import Deck\n",
    "from Utils import *\n",
    "from Exception import *"
   ]
  },
  {
   "cell_type": "code",
   "execution_count": 4,
   "metadata": {},
   "outputs": [],
   "source": [
    "%load_ext autoreload\n",
    "%autoreload 2"
   ]
  },
  {
   "cell_type": "code",
   "execution_count": 5,
   "metadata": {},
   "outputs": [],
   "source": [
    "# Initialize a Card Deck\n",
    "deck = Deck()\n",
    "deck.shuffle()"
   ]
  },
  {
   "cell_type": "code",
   "execution_count": 6,
   "metadata": {},
   "outputs": [
    {
     "name": "stdout",
     "output_type": "stream",
     "text": [
      "[(4, 1) (10, 3) (10, 4) (14, 1) (14, 3)]\n",
      "[(4, 1) (10, 3) (10, 4) (14, 1) (14, 3)]\n"
     ]
    }
   ],
   "source": [
    "p1 = Hand(deck.deck[0:5])"
   ]
  },
  {
   "cell_type": "code",
   "execution_count": 7,
   "metadata": {},
   "outputs": [
    {
     "name": "stdout",
     "output_type": "stream",
     "text": [
      "[(2, 3) (4, 1) (10, 4) (11, 2) (14, 3)]\n",
      "[(2, 3) (4, 1) (10, 4) (11, 2) (14, 3)]\n"
     ]
    }
   ],
   "source": [
    "p2 = Hand(deck.deck[2:7])"
   ]
  },
  {
   "cell_type": "code",
   "execution_count": 100,
   "metadata": {},
   "outputs": [],
   "source": [
    "### 2 cards left, runtime 4s\n",
    "### 3 cards left, runtime 58s\n",
    "### 4 cards left, runtime ??s (find_all_combinations)\n",
    "### 5 cards left, runtime ??s (find all combinations)"
   ]
  },
  {
   "cell_type": "code",
   "execution_count": 131,
   "metadata": {},
   "outputs": [],
   "source": [
    "total = deck.deck\n",
    "selected = 5\n",
    "combos = np.empty(num_combinations(len(total), selected), dtype=object)\n",
    "for idx, hand in enumerate(combinations(total, selected)):\n",
    "#     temp = np.empty(len(hand), dtype=object)\n",
    "#     temp[:] = hand\n",
    "    temp = Hand(hand)\n",
    "    combos[idx] = temp"
   ]
  },
  {
   "cell_type": "code",
   "execution_count": 136,
   "metadata": {},
   "outputs": [
    {
     "data": {
      "text/plain": [
       "1     1302540\n",
       "2     1098240\n",
       "3      123552\n",
       "4       54912\n",
       "5       10200\n",
       "6        5108\n",
       "7        3744\n",
       "8         624\n",
       "9          36\n",
       "10          4\n",
       "dtype: int64"
      ]
     },
     "execution_count": 136,
     "metadata": {},
     "output_type": "execute_result"
    }
   ],
   "source": [
    "pd.Series([x.value for x in combos]).value_counts()"
   ]
  },
  {
   "cell_type": "code",
   "execution_count": 137,
   "metadata": {},
   "outputs": [
    {
     "data": {
      "text/plain": [
       "7462"
      ]
     },
     "execution_count": 137,
     "metadata": {},
     "output_type": "execute_result"
    }
   ],
   "source": [
    "len(pd.Series([x.value for x in combos]).unique())"
   ]
  },
  {
   "cell_type": "code",
   "execution_count": 145,
   "metadata": {},
   "outputs": [
    {
     "data": {
      "text/plain": [
       "384     2860\n",
       "4       1443\n",
       "1020    1287\n",
       "144      858\n",
       "64       858\n",
       "24       156\n",
       "dtype: int64"
      ]
     },
     "execution_count": 145,
     "metadata": {},
     "output_type": "execute_result"
    }
   ],
   "source": [
    "pd.Series([x.value for x in combos]).value_counts().value_counts()"
   ]
  },
  {
   "cell_type": "code",
   "execution_count": null,
   "metadata": {},
   "outputs": [],
   "source": [
    "pd.Series([(x.rank, x.value) for x in combos]).value_counts()"
   ]
  },
  {
   "cell_type": "code",
   "execution_count": null,
   "metadata": {},
   "outputs": [],
   "source": []
  },
  {
   "cell_type": "code",
   "execution_count": null,
   "metadata": {},
   "outputs": [],
   "source": [
    "pd.Series([x.rank[0] for x in combos])."
   ]
  },
  {
   "cell_type": "code",
   "execution_count": 108,
   "metadata": {},
   "outputs": [],
   "source": [
    "# np.argmin([x.value for x in combos])"
   ]
  },
  {
   "cell_type": "code",
   "execution_count": 109,
   "metadata": {},
   "outputs": [],
   "source": [
    "# combos[760050].rank"
   ]
  },
  {
   "cell_type": "code",
   "execution_count": 132,
   "metadata": {},
   "outputs": [],
   "source": [
    "# np.argmin([x.value for x in combos])"
   ]
  },
  {
   "cell_type": "code",
   "execution_count": 118,
   "metadata": {},
   "outputs": [
    {
     "data": {
      "text/plain": [
       "2097152"
      ]
     },
     "execution_count": 118,
     "metadata": {},
     "output_type": "execute_result"
    }
   ],
   "source": [
    "2*(16**5)"
   ]
  },
  {
   "cell_type": "code",
   "execution_count": 116,
   "metadata": {},
   "outputs": [
    {
     "data": {
      "text/plain": [
       "array([ 2, 12,  5,  3,  2])"
      ]
     },
     "execution_count": 116,
     "metadata": {},
     "output_type": "execute_result"
    }
   ],
   "source": [
    "combos[85].rank"
   ]
  },
  {
   "cell_type": "code",
   "execution_count": 9,
   "metadata": {},
   "outputs": [],
   "source": [
    "p1_vec = np.repeat(p1, num_combinations(len(total), selected))"
   ]
  },
  {
   "cell_type": "code",
   "execution_count": 10,
   "metadata": {},
   "outputs": [],
   "source": [
    "p2_vec = np.repeat(p2, num_combinations(len(total), selected))"
   ]
  },
  {
   "cell_type": "code",
   "execution_count": 104,
   "metadata": {},
   "outputs": [
    {
     "name": "stdout",
     "output_type": "stream",
     "text": [
      "0.0639523999998346\n"
     ]
    }
   ],
   "source": [
    "start = timeit.default_timer()\n",
    "p1_combos = Hand.concatenate(p1_vec, combos)\n",
    "end = timeit.default_timer()\n",
    "print(end - start)"
   ]
  },
  {
   "cell_type": "code",
   "execution_count": 105,
   "metadata": {},
   "outputs": [
    {
     "name": "stdout",
     "output_type": "stream",
     "text": [
      "0.044035799999619485\n"
     ]
    }
   ],
   "source": [
    "start = timeit.default_timer()\n",
    "p1_combos = p1_vec + combos\n",
    "end = timeit.default_timer()\n",
    "print(end - start)"
   ]
  },
  {
   "cell_type": "code",
   "execution_count": 106,
   "metadata": {},
   "outputs": [],
   "source": [
    "p2_combos = Hand.concatenate(p2_vec, combos)"
   ]
  },
  {
   "cell_type": "code",
   "execution_count": 107,
   "metadata": {},
   "outputs": [
    {
     "data": {
      "text/plain": [
       "0.45899970000164103"
      ]
     },
     "execution_count": 107,
     "metadata": {},
     "output_type": "execute_result"
    }
   ],
   "source": [
    "time_ = []\n",
    "for i in range(100):\n",
    "    start = timeit.default_timer()\n",
    "    res = Hand(max(list(map(Hand, combinations(p1_combos[0].hand_candidates, 5)))).hand_candidates)\n",
    "    end = timeit.default_timer()\n",
    "    time_ += [end - start]\n",
    "np.sum(time_)"
   ]
  },
  {
   "cell_type": "code",
   "execution_count": 108,
   "metadata": {},
   "outputs": [
    {
     "data": {
      "text/plain": [
       "5.01043280000431"
      ]
     },
     "execution_count": 108,
     "metadata": {},
     "output_type": "execute_result"
    }
   ],
   "source": [
    "time_ = []\n",
    "for i in range(1000):\n",
    "    start = timeit.default_timer()\n",
    "    res = Hand(sorted(list(map(Hand, combinations(p1_combos[0].hand_candidates, 5))))[-1].hand_candidates)\n",
    "    end = timeit.default_timer()\n",
    "    time_ += [end - start]\n",
    "np.sum(time_)"
   ]
  },
  {
   "cell_type": "code",
   "execution_count": 109,
   "metadata": {},
   "outputs": [],
   "source": [
    "# start = timeit.default_timer()\n",
    "# p1_select = Hand.find_max(p1_combos)\n",
    "# end = timeit.default_timer()\n",
    "# print(end - start)"
   ]
  },
  {
   "cell_type": "code",
   "execution_count": 110,
   "metadata": {},
   "outputs": [],
   "source": [
    "# start = timeit.default_timer()\n",
    "# p2_select = Hand.find_max(p2_combos)\n",
    "# end = timeit.default_timer()\n",
    "# print(end - start)"
   ]
  },
  {
   "cell_type": "code",
   "execution_count": 111,
   "metadata": {},
   "outputs": [],
   "source": [
    "res = Hand.compare(p1_select, p2_select)"
   ]
  },
  {
   "cell_type": "code",
   "execution_count": 112,
   "metadata": {},
   "outputs": [
    {
     "data": {
      "text/plain": [
       "Counter({1: 10292, -1: 2952})"
      ]
     },
     "execution_count": 112,
     "metadata": {},
     "output_type": "execute_result"
    }
   ],
   "source": [
    "Counter(res)"
   ]
  },
  {
   "cell_type": "code",
   "execution_count": 113,
   "metadata": {},
   "outputs": [
    {
     "data": {
      "text/plain": [
       "(\"Three of a Kind ['8c', '9c', '9d', '9h', 'Qs']\",\n",
       " \"High Card ['3s', '4d', '8c', '9h', 'Qs']\")"
      ]
     },
     "execution_count": 113,
     "metadata": {},
     "output_type": "execute_result"
    }
   ],
   "source": [
    "str(p1), str(p2)"
   ]
  },
  {
   "cell_type": "code",
   "execution_count": 101,
   "metadata": {},
   "outputs": [],
   "source": [
    "# [str(x) for x in sorted(p1_select)]"
   ]
  },
  {
   "cell_type": "code",
   "execution_count": 100,
   "metadata": {},
   "outputs": [],
   "source": [
    "# [str(x) for x in sorted(p2_select)]"
   ]
  },
  {
   "cell_type": "code",
   "execution_count": null,
   "metadata": {},
   "outputs": [],
   "source": []
  },
  {
   "cell_type": "code",
   "execution_count": 116,
   "metadata": {},
   "outputs": [
    {
     "data": {
      "text/plain": [
       "(946,)"
      ]
     },
     "execution_count": 116,
     "metadata": {},
     "output_type": "execute_result"
    }
   ],
   "source": [
    "p2_combos.shape"
   ]
  },
  {
   "cell_type": "code",
   "execution_count": 117,
   "metadata": {},
   "outputs": [],
   "source": [
    "### Ideas for frequency calculation"
   ]
  },
  {
   "cell_type": "code",
   "execution_count": 118,
   "metadata": {},
   "outputs": [],
   "source": [
    "rank_dict =  {10: 'Royal Flush',\n",
    "    9: 'Straight Flush',\n",
    "    8: 'Four of A Kind',    \n",
    "    7: 'Full House',   \n",
    "    6: 'Flush',\n",
    "    5: 'Straight',\n",
    "    4: 'Three of a Kind',   \n",
    "    3: 'Two Pair',          \n",
    "    2: 'One Pair',          \n",
    "    1: 'High Card'}"
   ]
  },
  {
   "cell_type": "code",
   "execution_count": 119,
   "metadata": {},
   "outputs": [],
   "source": [
    "c = Counter([x.rank for x in p1_select])"
   ]
  },
  {
   "cell_type": "code",
   "execution_count": 120,
   "metadata": {},
   "outputs": [
    {
     "data": {
      "text/plain": [
       "[('Two Pair', 32.43733011174872),\n",
       " ('Full House', 2.4841437632135306),\n",
       " ('One Pair', 56.89368770764119),\n",
       " ('Three of a Kind', 5.48172757475083),\n",
       " ('Straight', 1.4497130776200544),\n",
       " ('Four of A Kind', 0.007550588945937783),\n",
       " ('Flush', 1.215644820295983),\n",
       " ('Straight Flush', 0.030202355783751134)]"
      ]
     },
     "execution_count": 120,
     "metadata": {},
     "output_type": "execute_result"
    }
   ],
   "source": [
    "[(rank_dict[i], c[i] / len(p1_select) * 100.0) for i in c]"
   ]
  },
  {
   "cell_type": "code",
   "execution_count": 121,
   "metadata": {},
   "outputs": [],
   "source": [
    "c = Counter([x.rank for x in p2_select])"
   ]
  },
  {
   "cell_type": "code",
   "execution_count": 122,
   "metadata": {},
   "outputs": [
    {
     "data": {
      "text/plain": [
       "[('Two Pair', 13.205980066445184),\n",
       " ('One Pair', 49.10903050437934),\n",
       " ('Three of a Kind', 2.536997885835095),\n",
       " ('High Card', 31.357595892479612),\n",
       " ('Straight', 2.0462096043491393),\n",
       " ('Flush', 1.2458471760797343),\n",
       " ('Full House', 0.47568710359408034),\n",
       " ('Four of A Kind', 0.02265176683781335)]"
      ]
     },
     "execution_count": 122,
     "metadata": {},
     "output_type": "execute_result"
    }
   ],
   "source": [
    "[(rank_dict[i], c[i] / len(p2_select) * 100.0) for i in c]"
   ]
  },
  {
   "cell_type": "code",
   "execution_count": 151,
   "metadata": {},
   "outputs": [],
   "source": [
    "total = deck.deck[:48]\n",
    "selected = 4\n",
    "combos = np.empty(num_combinations(len(total), selected), dtype=object)\n",
    "for idx, hand in enumerate(combinations(total, selected)):\n",
    "    temp = np.empty(len(hand), dtype=object)\n",
    "    temp[:] = hand\n",
    "    combos[idx] = temp"
   ]
  },
  {
   "cell_type": "code",
   "execution_count": 152,
   "metadata": {},
   "outputs": [],
   "source": [
    "p3_vec = np.repeat(Hand([deck.deck[50]]), repeats=len(combos))\n",
    "# p3_vec = p3_vec + combos"
   ]
  },
  {
   "cell_type": "code",
   "execution_count": 102,
   "metadata": {},
   "outputs": [],
   "source": [
    "# p3_res = p3_vec + combos"
   ]
  },
  {
   "cell_type": "code",
   "execution_count": 154,
   "metadata": {},
   "outputs": [],
   "source": [
    "c = Counter([x.rank for x in p3_res])"
   ]
  },
  {
   "cell_type": "code",
   "execution_count": 155,
   "metadata": {},
   "outputs": [
    {
     "data": {
      "text/plain": [
       "[('Three of a Kind', 1.4055915304758968),\n",
       " ('One Pair', 39.99383287079865),\n",
       " ('Two Pair', 3.8775824853530683),\n",
       " ('Full House', 0.0770891150169596),\n",
       " ('Four of A Kind', 0.005139274334463974),\n",
       " ('High Card', 54.157159009147904),\n",
       " ('Flush', 0.2533662246890739),\n",
       " ('Straight', 0.22921163531709324),\n",
       " ('Royal Flush', 0.0005139274334463973),\n",
       " ('Straight Flush', 0.0005139274334463973)]"
      ]
     },
     "execution_count": 155,
     "metadata": {},
     "output_type": "execute_result"
    }
   ],
   "source": [
    "[(rank_dict[i], c[i] / len(p3_res) * 100.0) for i in c]"
   ]
  },
  {
   "cell_type": "code",
   "execution_count": 11,
   "metadata": {},
   "outputs": [],
   "source": [
    "def concat(hand_1, hand_2):\n",
    "    Hand.concatenate(hand_1, hand_2)"
   ]
  },
  {
   "cell_type": "code",
   "execution_count": 14,
   "metadata": {},
   "outputs": [],
   "source": [
    "p = Pool(8)\n",
    "# p.map(concat, p3_res[1:10])"
   ]
  },
  {
   "cell_type": "code",
   "execution_count": 13,
   "metadata": {},
   "outputs": [
    {
     "data": {
      "text/plain": [
       "<multiprocessing.pool.Pool at 0x18267990108>"
      ]
     },
     "execution_count": 13,
     "metadata": {},
     "output_type": "execute_result"
    }
   ],
   "source": [
    "p.map(concat, )"
   ]
  },
  {
   "cell_type": "code",
   "execution_count": null,
   "metadata": {},
   "outputs": [],
   "source": [
    "def f(x):\n",
    "    return x*x\n",
    "\n",
    "p = Pool(5)\n",
    "print(p.map(f, [1, 2, 3]))"
   ]
  },
  {
   "cell_type": "code",
   "execution_count": 28,
   "metadata": {},
   "outputs": [],
   "source": [
    "class C(np.ndarray):\n",
    "    def __new__(cls, *args, **kwargs):\n",
    "        print('In __new__ with class %s' % cls)\n",
    "        return np.asarray(input_array).view(cls)\n",
    "#         return super(C, cls).__new__(cls, *args, **kwargs)\n",
    "\n",
    "    def __init__(self, *args, **kwargs):\n",
    "        # in practice you probably will not need or want an __init__\n",
    "        # method for your subclass\n",
    "        print('In __init__ with class %s' % self.__class__)\n",
    "\n",
    "    def __array_finalize__(self, obj):\n",
    "        print('In array_finalize:')\n",
    "        print('   self type is %s' % type(self))\n",
    "        print('   obj type is %s' % type(obj))"
   ]
  },
  {
   "cell_type": "code",
   "execution_count": 30,
   "metadata": {},
   "outputs": [
    {
     "name": "stdout",
     "output_type": "stream",
     "text": [
      "In __new__ with class <class '__main__.C'>\n"
     ]
    },
    {
     "ename": "NameError",
     "evalue": "name 'input_array' is not defined",
     "output_type": "error",
     "traceback": [
      "\u001b[1;31m---------------------------------------------------------------------------\u001b[0m",
      "\u001b[1;31mNameError\u001b[0m                                 Traceback (most recent call last)",
      "\u001b[1;32m<ipython-input-30-318e2577ffa9>\u001b[0m in \u001b[0;36m<module>\u001b[1;34m\u001b[0m\n\u001b[1;32m----> 1\u001b[1;33m \u001b[0mC\u001b[0m\u001b[1;33m(\u001b[0m\u001b[0minput_array\u001b[0m\u001b[1;33m=\u001b[0m\u001b[1;33m[\u001b[0m\u001b[1;33m[\u001b[0m\u001b[1;36m2\u001b[0m\u001b[1;33m,\u001b[0m\u001b[1;36m3\u001b[0m\u001b[1;33m]\u001b[0m\u001b[1;33m,\u001b[0m \u001b[1;33m[\u001b[0m\u001b[1;36m4\u001b[0m\u001b[1;33m,\u001b[0m\u001b[1;36m5\u001b[0m\u001b[1;33m]\u001b[0m\u001b[1;33m,\u001b[0m \u001b[1;33m[\u001b[0m\u001b[1;36m6\u001b[0m\u001b[1;33m,\u001b[0m\u001b[1;36m7\u001b[0m\u001b[1;33m]\u001b[0m\u001b[1;33m,\u001b[0m \u001b[1;33m[\u001b[0m\u001b[1;36m8\u001b[0m\u001b[1;33m,\u001b[0m\u001b[1;36m9\u001b[0m\u001b[1;33m]\u001b[0m\u001b[1;33m,\u001b[0m \u001b[1;33m[\u001b[0m\u001b[1;36m4\u001b[0m\u001b[1;33m,\u001b[0m\u001b[1;36m3\u001b[0m\u001b[1;33m]\u001b[0m\u001b[1;33m]\u001b[0m\u001b[1;33m)\u001b[0m\u001b[1;33m\u001b[0m\u001b[1;33m\u001b[0m\u001b[0m\n\u001b[0m",
      "\u001b[1;32m<ipython-input-28-77a4dd10ee7d>\u001b[0m in \u001b[0;36m__new__\u001b[1;34m(cls, *args, **kwargs)\u001b[0m\n\u001b[0;32m      2\u001b[0m     \u001b[1;32mdef\u001b[0m \u001b[0m__new__\u001b[0m\u001b[1;33m(\u001b[0m\u001b[0mcls\u001b[0m\u001b[1;33m,\u001b[0m \u001b[1;33m*\u001b[0m\u001b[0margs\u001b[0m\u001b[1;33m,\u001b[0m \u001b[1;33m**\u001b[0m\u001b[0mkwargs\u001b[0m\u001b[1;33m)\u001b[0m\u001b[1;33m:\u001b[0m\u001b[1;33m\u001b[0m\u001b[1;33m\u001b[0m\u001b[0m\n\u001b[0;32m      3\u001b[0m         \u001b[0mprint\u001b[0m\u001b[1;33m(\u001b[0m\u001b[1;34m'In __new__ with class %s'\u001b[0m \u001b[1;33m%\u001b[0m \u001b[0mcls\u001b[0m\u001b[1;33m)\u001b[0m\u001b[1;33m\u001b[0m\u001b[1;33m\u001b[0m\u001b[0m\n\u001b[1;32m----> 4\u001b[1;33m         \u001b[1;32mreturn\u001b[0m \u001b[0mnp\u001b[0m\u001b[1;33m.\u001b[0m\u001b[0masarray\u001b[0m\u001b[1;33m(\u001b[0m\u001b[0minput_array\u001b[0m\u001b[1;33m)\u001b[0m\u001b[1;33m.\u001b[0m\u001b[0mview\u001b[0m\u001b[1;33m(\u001b[0m\u001b[0mcls\u001b[0m\u001b[1;33m)\u001b[0m\u001b[1;33m\u001b[0m\u001b[1;33m\u001b[0m\u001b[0m\n\u001b[0m\u001b[0;32m      5\u001b[0m \u001b[1;31m#         return super(C, cls).__new__(cls, *args, **kwargs)\u001b[0m\u001b[1;33m\u001b[0m\u001b[1;33m\u001b[0m\u001b[1;33m\u001b[0m\u001b[0m\n\u001b[0;32m      6\u001b[0m \u001b[1;33m\u001b[0m\u001b[0m\n",
      "\u001b[1;31mNameError\u001b[0m: name 'input_array' is not defined"
     ]
    }
   ],
   "source": [
    "C(input_array=[[2,3], [4,5], [6,7], [8,9], [4,3]])"
   ]
  },
  {
   "cell_type": "code",
   "execution_count": 57,
   "metadata": {},
   "outputs": [
    {
     "data": {
      "text/plain": [
       "array([[2, 3],\n",
       "       [4, 5],\n",
       "       [6, 7],\n",
       "       [2, 3],\n",
       "       [4, 5]])"
      ]
     },
     "execution_count": 57,
     "metadata": {},
     "output_type": "execute_result"
    }
   ],
   "source": [
    "np.append(np.array([[2,3],[4,5], [6,7]]), np.array([[2,3],[4,5]]), axis=0)"
   ]
  },
  {
   "cell_type": "code",
   "execution_count": null,
   "metadata": {},
   "outputs": [],
   "source": [
    "np.array([[2,3],[4,5], [6,7]])"
   ]
  },
  {
   "cell_type": "code",
   "execution_count": 60,
   "metadata": {
    "scrolled": true
   },
   "outputs": [
    {
     "data": {
      "text/plain": [
       "array([[0., 0., 0., 0., 0.],\n",
       "       [0., 0., 0., 0., 0.],\n",
       "       [0., 0., 0., 0., 0.],\n",
       "       ...,\n",
       "       [0., 0., 0., 0., 0.],\n",
       "       [0., 0., 0., 0., 0.],\n",
       "       [0., 0., 0., 0., 0.]])"
      ]
     },
     "execution_count": 60,
     "metadata": {},
     "output_type": "execute_result"
    }
   ],
   "source": [
    "combos"
   ]
  },
  {
   "cell_type": "code",
   "execution_count": 6,
   "metadata": {},
   "outputs": [],
   "source": [
    "total = deck.deck[8:22]\n",
    "selected = 5\n",
    "combos = np.empty(shape=(num_combinations(len(total), selected), selected, 2))\n",
    "for idx, item in enumerate(combinations(total, selected)):\n",
    "    combos[idx] = np.array(item, dtype=int)\n",
    "#     temp = np.empty(len(hand), dtype=object)\n",
    "#     temp[:] = hand\n",
    "#     combos[idx] = temp"
   ]
  },
  {
   "cell_type": "code",
   "execution_count": null,
   "metadata": {},
   "outputs": [],
   "source": [
    "    ### Helper functions to get hand values\n",
    "    def _hand_values(self, hand):\n",
    "        return sorted([card[0] for card in hand])\n",
    "\n",
    "    def _hand_suits(self, hand):\n",
    "        return sorted([card[1] for card in hand])\n",
    "\n",
    "    ### Convenient Quick Check\n",
    "    \"\"\"\n",
    "    Checks if all five cards are of the same suit\n",
    "    True: 5 cards are of the same suit\n",
    "    False: 5 cards are of different suit\n",
    "    \"\"\"\n",
    "\n",
    "    def suit_check(self, hand):\n",
    "        if len(np.unique(self._hand_suits(hand))) == 1:\n",
    "            return True\n",
    "        return False\n",
    "\n",
    "    \"\"\"\n",
    "    Checks if the five cards form a straight\n",
    "    True: 5 cards form a straight\n",
    "    False: 5 cards do not form a straight\n",
    "    \"\"\"\n",
    "\n",
    "    def straight_check(self, hand):\n",
    "        hand_values = self._hand_values(hand)\n",
    "        # print(hand_values)\n",
    "        # print(type(hand_values))\n",
    "        # print(np.arange(hand_values[0], hand_values[0] + 5, 1))\n",
    "        # print(hand_values == np.arange(hand_values[0], hand_values[-1] + 1, 1))\n",
    "        if hand_values == list(np.arange(hand_values[0], hand_values[0] + 5, 1)) or (\n",
    "                hand_values == [2,3,4,5,14]):\n",
    "            return True\n",
    "        return False\n",
    "\n",
    "    \"\"\"\n",
    "    Assigns the rank of the hand\n",
    "    \"\"\"\n",
    "\n",
    "    def assign_rank(self, hand):\n",
    "\n",
    "        suit_check = self.suit_check(hand)\n",
    "        straight_check = self.straight_check(hand)\n",
    "        hand_values = self._hand_values(hand)\n",
    "        \n",
    "        if hand_values == [2,3,4,5,14]:\n",
    "            hand_values = [1,2,3,4,5]\n",
    "        ### We could use straight check and suit check to quickly determine certain card types\n",
    "        if suit_check and straight_check and hand_values[0] == 10:\n",
    "            return np.array([10] + hand_values[::-1])\n",
    "        elif suit_check and straight_check:\n",
    "            return np.array([9] + hand_values[::-1])\n",
    "        elif suit_check:\n",
    "            return np.array([6] + hand_values[::-1])\n",
    "        elif straight_check:\n",
    "            return np.array([5] + hand_values[::-1])\n",
    "\n",
    "        ### Assign all other categories\n",
    "        val, count = np.unique(hand_values, return_counts=True)\n",
    "        return np.array([self._rank_dict((max(count), min(count), len(count)))] + list(val[count.argsort()])[::-1])\n",
    "    \n",
    "    def assign_value(self, hand_array):\n",
    "        ### Algorithm to assign a unique value to the hand\n",
    "        return int(np.sum(np.exp2(np.arange(20, 20 - len(hand_array) * 4, -4)) * hand_array))\n",
    "\n",
    "    def _rank_dict(self, max_min_len):\n",
    "        rank_params_dict = {(4, 1, 2): 8, (3, 2, 2): 7, (3, 1, 3): 4, (2, 1, 3): 3, (2, 1, 4): 2, (1, 1, 5): 1}\n",
    "        return rank_params_dict[max_min_len]\n"
   ]
  },
  {
   "cell_type": "code",
   "execution_count": 141,
   "metadata": {},
   "outputs": [
    {
     "data": {
      "text/plain": [
       "array([[12,  9,  3,  5,  3],\n",
       "       [12,  9,  3, 10, 10],\n",
       "       [12,  9,  3, 10,  7]])"
      ]
     },
     "execution_count": 141,
     "metadata": {},
     "output_type": "execute_result"
    }
   ],
   "source": [
    "_hand_values(res[7:10], 0)"
   ]
  },
  {
   "cell_type": "code",
   "execution_count": null,
   "metadata": {},
   "outputs": [],
   "source": [
    "val, count = np.unique(hand_values, return_counts=True)\n",
    "#         print(val, count)\n",
    "        return np.array([self._rank_dict((max(count), min(count), len(count)))] + list(val[count.argsort()])[::-1])\n",
    "    \n",
    "    def assign_value(self, hand_array):\n",
    "#         print(np.arange(20, 20 - len(hand_array) * 4, -4))\n",
    "#         print(hand_array)\n",
    "        return int(np.sum(np.exp2(np.arange(20, 20 - len(hand_array) * 4, -4)) * hand_array))\n",
    "\n",
    "    def _rank_dict(self, max_min_len):\n",
    "        rank_params_dict = {(4, 1, 2): 8, (3, 2, 2): 7, (3, 1, 3): 4, (2, 1, 3): 3, (2, 1, 4): 2, (1, 1, 5): 1}\n",
    "        return rank_params_dict[max_min_len]\n"
   ]
  },
  {
   "cell_type": "code",
   "execution_count": 152,
   "metadata": {},
   "outputs": [
    {
     "data": {
      "text/plain": [
       "(array([ 3,  5,  9, 12]), array([2, 1, 1, 1], dtype=int64))"
      ]
     },
     "execution_count": 152,
     "metadata": {},
     "output_type": "execute_result"
    }
   ],
   "source": [
    "np.unique(_hand_values(res[7], axis=0), return_counts=True)"
   ]
  },
  {
   "cell_type": "code",
   "execution_count": 149,
   "metadata": {},
   "outputs": [],
   "source": [
    "def _hand_values(hand, axis):\n",
    "    return hand[:, axis]\n",
    "\n",
    "def _hand_suits(hand, axis):\n",
    "    return hand[:, axis]"
   ]
  },
  {
   "cell_type": "code",
   "execution_count": 110,
   "metadata": {},
   "outputs": [
    {
     "data": {
      "text/plain": [
       "array([[12,  9,  3,  5, 10, 10,  5],\n",
       "       [12,  9,  3,  5, 10, 10,  9]])"
      ]
     },
     "execution_count": 110,
     "metadata": {},
     "output_type": "execute_result"
    }
   ],
   "source": [
    "_hand_values(res[1:3])"
   ]
  },
  {
   "cell_type": "code",
   "execution_count": 111,
   "metadata": {},
   "outputs": [
    {
     "data": {
      "text/plain": [
       "array([[3, 3, 1, 1, 2, 1, 3],\n",
       "       [3, 3, 1, 1, 2, 1, 1]])"
      ]
     },
     "execution_count": 111,
     "metadata": {},
     "output_type": "execute_result"
    }
   ],
   "source": [
    "_hand_suits(res[1:3])"
   ]
  },
  {
   "cell_type": "code",
   "execution_count": 123,
   "metadata": {},
   "outputs": [
    {
     "data": {
      "text/plain": [
       "array([[[12,  9,  3,  5, 10],\n",
       "        [12,  9,  3,  5,  7]]])"
      ]
     },
     "execution_count": 123,
     "metadata": {},
     "output_type": "execute_result"
    }
   ],
   "source": [
    "np.apply_over_axes(_hand_values, res[1:3], axes=[0])"
   ]
  },
  {
   "cell_type": "code",
   "execution_count": 32,
   "metadata": {},
   "outputs": [
    {
     "data": {
      "text/plain": [
       "array([[15., 12.,  4.,  6., 11.],\n",
       "       [15., 12.,  4.,  6., 11.]])"
      ]
     },
     "execution_count": 32,
     "metadata": {},
     "output_type": "execute_result"
    }
   ],
   "source": [
    "np.apply_along_axis(np.sum, 2, combos[1:3])"
   ]
  },
  {
   "cell_type": "code",
   "execution_count": 122,
   "metadata": {},
   "outputs": [],
   "source": [
    "total = deck.deck[8:20]\n",
    "selected = 5\n",
    "combos = np.empty(shape=(num_combinations(len(total), selected), selected, 2), dtype=int)\n",
    "res = np.array(list(combinations(total, selected)))\n",
    "#     temp = np.empty(len(hand), dtype=object)\n",
    "#     temp[:] = hand\n",
    "#     combos[idx] = temp"
   ]
  },
  {
   "cell_type": "code",
   "execution_count": 130,
   "metadata": {},
   "outputs": [],
   "source": [
    "import numpy as np\n",
    "from itertools import combinations\n",
    "from Exception import *\n",
    "\n",
    "\n",
    "\n",
    "class Hand:\n",
    "    \"\"\"\n",
    "    A class that identifies the Hand Type\n",
    "\n",
    "    10: Royal Flush\n",
    "    9: Straight Flush\n",
    "    8: Four of A Kind    4, 1, 2\n",
    "    7. Full House        3, 2, 2\n",
    "    6: Flush\n",
    "    5: Straight\n",
    "    4: Three of a Kind   3, 1, 3\n",
    "    3: Two Pair          2, 1, 3\n",
    "    2: One Pair          2, 1, 4\n",
    "    1: High Card         1, 1, 5\n",
    "    \"\"\"\n",
    "\n",
    "    def __init__(self, cards) -> None:\n",
    "        # if len(cards) > 5:\n",
    "        self.hand_candidates = self.create_hand(cards)\n",
    "\n",
    "        if len(cards) <= 5:\n",
    "            self.hand = self.create_hand(cards, sort=True)\n",
    "#         self._valid_hand(self.hand)\n",
    "\n",
    "            if len(self.hand) == 5:\n",
    "                self.rank = self.assign_rank(self.hand)\n",
    "                self.value = self.assign_value(self.rank)\n",
    "            else:\n",
    "                self.rank = 0\n",
    "                self.value = 0\n",
    "\n",
    "    def create_hand(self, cards, sort=False):\n",
    "        # if len(cards) > 5:\n",
    "        #     return max(list(map(Hand, combinations(cards, 5)))).hand\n",
    "\n",
    "        cardlist = np.empty((len(cards),), dtype=object)\n",
    "        if sort:\n",
    "            cardlist[:] = sorted(cards)\n",
    "        else:\n",
    "            cardlist[:] = cards\n",
    "        return cardlist\n",
    "\n",
    "    ### Buggy Don't Need It\n",
    "    #     def remove_card(self, card):\n",
    "    #         self.hand = self.hand[self.hand != card]\n",
    "    @staticmethod\n",
    "    @np.vectorize\n",
    "    def concatenate(hand_1, hand_2):\n",
    "        if isinstance(hand_1, Hand) and isinstance(hand_2, Hand):\n",
    "            return Hand(np.append(hand_1.hand_candidates, hand_2.hand_candidates))\n",
    "        elif isinstance(hand_1, Hand):\n",
    "            return Hand(np.append(hand_1.hand_candidates, hand_2))\n",
    "        elif isinstance(hand_2, Hand):\n",
    "                # return Hand(max(list(map(Hand, combinations(np.append(hand_1, hand_2.hand), 5)))).hand)\n",
    "            return Hand(np.append(hand_1, hand_2.hand_candidates))\n",
    "                # return Hand(max(list(map(Hand, combinations(np.append(hand_1.hand, hand_2.hand), 5)))).hand)\n",
    "        return Hand(np.append(hand_1, hand_2))\n",
    "\n",
    "    @staticmethod\n",
    "    @np.vectorize\n",
    "    def find_max(hand):\n",
    "        if isinstance(hand, Hand):\n",
    "            if len(hand.hand_candidates) > 5:\n",
    "                return Hand(max(list(map(Hand, combinations(hand.hand_candidates, 5)))).hand_candidates)\n",
    "            return hand\n",
    "        else:\n",
    "            if len(hand.hand_candidates) > 5:\n",
    "                return Hand(max(list(map(Hand, combinations(hand, 5)))).hand_candidates)\n",
    "            return Hand(hand)\n",
    "\n",
    "\n",
    "    def __add__(self, other):\n",
    "        if isinstance(other, Hand):\n",
    "            return Hand(np.append(self.hand_candidates, other.hand_candidates))\n",
    "        else:\n",
    "            print(self.hand_candidates)\n",
    "            return Hand(np.append(self.hand_candidates, other))\n",
    "\n",
    "    def __radd__(self, other):\n",
    "        if isinstance(other, Hand):\n",
    "            return Hand(np.append(self.hand_candidates, other.hand_candidates))\n",
    "        else:\n",
    "            return Hand(np.append(self.hand_candidates, other))\n",
    "\n",
    "    def _valid_hand(self, hand):\n",
    "#         if len(hand) > 5:\n",
    "#             raise HandException(\"Hand Size has Exceeded the Limit of 5\")\n",
    "#         tupled_card = [tuple(card) for card in hand]\n",
    "#         if len(tupled_card) != len(list(set(tupled_card))):\n",
    "#             raise HandException(\"Duplicate Cards Found in Hand\")\n",
    "        pass\n",
    "\n",
    "    ### Helper functions to get hand values\n",
    "    def _hand_values(self, hand):\n",
    "        return sorted([card[0] for card in hand])\n",
    "\n",
    "    def _hand_suits(self, hand):\n",
    "        return sorted([card[1] for card in hand])\n",
    "\n",
    "    ### Convenient Quick Check\n",
    "    \"\"\"\n",
    "    Checks if all five cards are of the same suit\n",
    "    True: 5 cards are of the same suit\n",
    "    False: 5 cards are of different suit\n",
    "    \"\"\"\n",
    "\n",
    "    def suit_check(self, hand):\n",
    "        if len(np.unique(self._hand_suits(hand))) == 1:\n",
    "            return True\n",
    "        return False\n",
    "\n",
    "    \"\"\"\n",
    "    Checks if the five cards form a straight\n",
    "    True: 5 cards form a straight\n",
    "    False: 5 cards do not form a straight\n",
    "    \"\"\"\n",
    "\n",
    "    def straight_check(self, hand):\n",
    "        hand_values = self._hand_values(hand)\n",
    "        # print(hand_values)\n",
    "        # print(type(hand_values))\n",
    "        # print(np.arange(hand_values[0], hand_values[0] + 5, 1))\n",
    "        # print(hand_values == np.arange(hand_values[0], hand_values[-1] + 1, 1))\n",
    "        if hand_values == list(np.arange(hand_values[0], hand_values[0] + 5, 1)) or (\n",
    "                hand_values == [2,3,4,5,14]):\n",
    "            return True\n",
    "        return False\n",
    "\n",
    "    \"\"\"\n",
    "    Assigns the rank of the hand\n",
    "    \"\"\"\n",
    "\n",
    "    def assign_rank(self, hand):\n",
    "\n",
    "        suit_check = self.suit_check(hand)\n",
    "        straight_check = self.straight_check(hand)\n",
    "        hand_values = self._hand_values(hand)\n",
    "        \n",
    "        if hand_values == [2,3,4,5,14]:\n",
    "            hand_values = [1,2,3,4,5]\n",
    "        ### We could use straight check and suit check to quickly determine certain card types\n",
    "        if suit_check and straight_check and hand_values[0] == 10:\n",
    "            return np.array([10] + hand_values[::-1])\n",
    "        elif suit_check and straight_check:\n",
    "            return np.array([9] + hand_values[::-1])\n",
    "        elif suit_check:\n",
    "            return np.array([6] + hand_values[::-1])\n",
    "        elif straight_check:\n",
    "            return np.array([5] + hand_values[::-1])\n",
    "\n",
    "        ### Assign all other categories\n",
    "        val, count = np.unique(hand_values, return_counts=True)\n",
    "#         print(val, count)\n",
    "        return np.array([self._rank_dict((max(count), min(count), len(count)))] + list(val[count.argsort()])[::-1])\n",
    "    \n",
    "    def assign_value(self, hand_array):\n",
    "        return int(np.sum(np.exp2(np.arange(20, 20 - len(hand_array) * 4, -4)) * hand_array))\n",
    "\n",
    "    def _rank_dict(self, max_min_len):\n",
    "        rank_params_dict = {(4, 1, 2): 8, (3, 2, 2): 7, (3, 1, 3): 4, (2, 1, 3): 3, (2, 1, 4): 2, (1, 1, 5): 1}\n",
    "        return rank_params_dict[max_min_len]\n",
    "\n",
    "\n",
    "    ### Overwriting Comparison Operators\n",
    "    def __eq__(self, other) -> bool:\n",
    "        if isinstance(other, Hand):\n",
    "            if self.rank != other.rank:\n",
    "                return False\n",
    "            elif Hand.in_rank_comparison(self.in_rank_values, other.in_rank_values) == 0:\n",
    "                return True\n",
    "            return False\n",
    "        return False\n",
    "\n",
    "    def __gt__(self, other) -> bool:\n",
    "        if isinstance(other, Hand):\n",
    "            if self.rank > other.rank:\n",
    "                return True\n",
    "            elif self.rank < other.rank:\n",
    "                return False\n",
    "            elif Hand.in_rank_comparison(self.in_rank_values, other.in_rank_values) == 1:\n",
    "                return True\n",
    "            return False\n",
    "        return False\n",
    "\n",
    "    def __lt__(self, other) -> bool:\n",
    "        if isinstance(other, Hand):\n",
    "#             print(self.hand, other.hand, 'self other hand')\n",
    "#             print(self.in_rank_values, other.in_rank_values, 'self other in rank')\n",
    "#             print(self.rank, other.rank, 'self other rank')\n",
    "            if self.rank < other.rank:\n",
    "                return True\n",
    "            elif self.rank > other.rank:\n",
    "                return False\n",
    "            elif Hand.in_rank_comparison(self.in_rank_values, other.in_rank_values) == -1:\n",
    "                return True\n",
    "            return False\n",
    "        return False\n",
    "\n",
    "    def __ge__(self, other) -> bool:\n",
    "        if isinstance(other, Hand):\n",
    "            if self.rank > other.rank:\n",
    "                return True\n",
    "            elif self.rank < other.rank:\n",
    "                return False\n",
    "            elif Hand.in_rank_comparison(self.in_rank_values, other.in_rank_values) in [0, 1]:\n",
    "                return True\n",
    "            return False\n",
    "        return False\n",
    "\n",
    "    def __le__(self, other) -> bool:\n",
    "        if isinstance(other, Hand):\n",
    "            if self.rank < other.rank:\n",
    "                return True\n",
    "            elif self.rank > other.rank:\n",
    "                return False\n",
    "            elif Hand.in_rank_comparison(self.in_rank_values, other.in_rank_values) in [0, -1]:\n",
    "                return True\n",
    "            return False\n",
    "        return False\n",
    "\n",
    "    def __ne__(self, other) -> bool:\n",
    "        if isinstance(other, Hand):\n",
    "            if self.rank != other.rank:\n",
    "                return False\n",
    "            elif Hand.in_rank_comparison(self.in_rank_values, other.in_rank_values) == 0:\n",
    "                return True\n",
    "            return False\n",
    "        return False\n",
    "\n",
    "    @staticmethod\n",
    "    def in_rank_comparison(hand_value_1, hand_value_2):\n",
    "\n",
    "        if hand_value_1 == [2, 3, 4, 5, 14]:\n",
    "            hand_value_1 = [1, 2, 3, 4, 5]\n",
    "        if hand_value_2 == [2, 3, 4, 5, 14]:\n",
    "            hand_value_2 = [1, 2, 3, 4, 5]\n",
    "\n",
    "        if hand_value_1 == hand_value_2:\n",
    "            return 0\n",
    "\n",
    "        for i in range(-1, -len(hand_value_1) - 1, -1):\n",
    "            if hand_value_1[i] > hand_value_2[i]:\n",
    "                return 1\n",
    "            elif hand_value_1[i] < hand_value_2[i]:\n",
    "                return -1\n",
    "\n",
    "\n",
    "    @staticmethod\n",
    "    @np.vectorize\n",
    "    def compare(hand_1, hand_2) -> int:\n",
    "        if hand_1.rank > hand_2.rank:\n",
    "            return 1\n",
    "        elif hand_1.rank < hand_2.rank:\n",
    "            return -1\n",
    "        return Hand.in_rank_comparison(hand_1.in_rank_values, hand_2.in_rank_values)\n",
    "\n",
    "    @staticmethod\n",
    "    @np.vectorize\n",
    "    def multi_compare() -> int:\n",
    "        pass\n",
    "\n",
    "\n",
    "\n",
    "    ### Overwriting String Operation\n",
    "    def __str__(self) -> str:\n",
    "        category_strings = {10: 'Royal Flush', 9: 'Straight Flush', 8: 'Four of a Kind',\n",
    "                            7: 'Full House', 6: 'Flush', 5: 'Straight', 4: 'Three of a Kind', 3: 'Two Pairs',\n",
    "                            2: 'One Pair', 1: 'High Card'}\n",
    "        if len(self.hand_candidates) == 5:\n",
    "            return category_strings.get(self.rank) + \" \" + str([card.__str__() for card in self.hand_candidates])\n",
    "        return str([card.__str__() for card in self.hand_candidates])\n",
    "\n",
    "    #     def assign_table(self):\n",
    "    #         temp = dict()\n",
    "    #         for card in self.cardlist:\n",
    "    #             if card[0] in temp.keys():\n",
    "    #                 temp[card[0]] += 1\n",
    "    #             else:\n",
    "    #                 temp[card[0]] = 1\n",
    "    #         temp = dict(sorted(temp.items(), key=lambda x: x[1], reverse=True))\n",
    "\n",
    "    #         result = []\n",
    "    #         for value in list(sorted(set(temp.values()), reverse=True)):\n",
    "    #             l1 = sorted([k for k, v in temp.items() if v == value], reverse=True)\n",
    "    #             # print(l1)\n",
    "    #             for i in range(len(l1)):\n",
    "    #                 for j in range(value):\n",
    "    #                     result.append(l1[i])\n",
    "    #         return result\n",
    "\n"
   ]
  },
  {
   "cell_type": "code",
   "execution_count": 56,
   "metadata": {},
   "outputs": [
    {
     "data": {
      "text/plain": [
       "array([0, array([ 2, 34,  5])], dtype=object)"
      ]
     },
     "execution_count": 56,
     "metadata": {},
     "output_type": "execute_result"
    }
   ],
   "source": [
    "np.array([0,np.array([2,34,5])])"
   ]
  },
  {
   "cell_type": "code",
   "execution_count": 58,
   "metadata": {},
   "outputs": [
    {
     "data": {
      "text/plain": [
       "array([5, 6, 7])"
      ]
     },
     "execution_count": 58,
     "metadata": {},
     "output_type": "execute_result"
    }
   ],
   "source": [
    "[3] + np.array([2,3,4])"
   ]
  },
  {
   "cell_type": "code",
   "execution_count": 123,
   "metadata": {},
   "outputs": [
    {
     "data": {
      "text/plain": [
       "array([20, 16, 12,  8])"
      ]
     },
     "execution_count": 123,
     "metadata": {},
     "output_type": "execute_result"
    }
   ],
   "source": [
    "np.arange(20, 20 - 3* 4 - 1,-4)"
   ]
  },
  {
   "cell_type": "code",
   "execution_count": null,
   "metadata": {},
   "outputs": [],
   "source": []
  }
 ],
 "metadata": {
  "kernelspec": {
   "display_name": "analysis_env",
   "language": "python",
   "name": "analysis_env"
  },
  "language_info": {
   "codemirror_mode": {
    "name": "ipython",
    "version": 3
   },
   "file_extension": ".py",
   "mimetype": "text/x-python",
   "name": "python",
   "nbconvert_exporter": "python",
   "pygments_lexer": "ipython3",
   "version": "3.7.4"
  }
 },
 "nbformat": 4,
 "nbformat_minor": 2
}
